{
 "cells": [
  {
   "cell_type": "code",
   "execution_count": 1,
   "metadata": {
    "_cell_guid": "b1076dfc-b9ad-4769-8c92-a6c4dae69d19",
    "_uuid": "8f2839f25d086af736a60e9eeb907d3b93b6e0e5",
    "execution": {
     "iopub.execute_input": "2021-11-06T14:43:32.661250Z",
     "iopub.status.busy": "2021-11-06T14:43:32.660564Z",
     "iopub.status.idle": "2021-11-06T14:43:32.682164Z",
     "shell.execute_reply": "2021-11-06T14:43:32.681402Z",
     "shell.execute_reply.started": "2021-11-06T14:43:32.661161Z"
    }
   },
   "outputs": [],
   "source": [
    "\n",
    "import numpy as np \n",
    "import pandas as pd \n"
   ]
  },
  {
   "cell_type": "code",
   "execution_count": 2,
   "metadata": {
    "execution": {
     "iopub.execute_input": "2021-11-06T14:43:39.446906Z",
     "iopub.status.busy": "2021-11-06T14:43:39.446552Z",
     "iopub.status.idle": "2021-11-06T14:43:41.201906Z",
     "shell.execute_reply": "2021-11-06T14:43:41.200899Z",
     "shell.execute_reply.started": "2021-11-06T14:43:39.446873Z"
    }
   },
   "outputs": [],
   "source": [
    "from sklearn.model_selection import train_test_split, cross_val_score, GridSearchCV, StratifiedKFold\n",
    "from sklearn.feature_extraction.text import CountVectorizer, TfidfVectorizer\n",
    "from sklearn.naive_bayes import MultinomialNB, BernoulliNB\n",
    "from sklearn.metrics import confusion_matrix, accuracy_score, roc_curve, roc_auc_score, recall_score, precision_score, f1_score\n",
    "from sklearn.pipeline import Pipeline\n",
    "\n",
    "import seaborn as sns, matplotlib.pyplot as plt\n",
    "\n",
    "import re\n",
    "\n",
    "import nltk\n",
    "from nltk.corpus import stopwords\n",
    "from nltk.stem.porter import PorterStemmer"
   ]
  },
  {
   "cell_type": "code",
   "execution_count": 4,
   "metadata": {
    "execution": {
     "iopub.execute_input": "2021-11-06T14:43:44.283344Z",
     "iopub.status.busy": "2021-11-06T14:43:44.282964Z",
     "iopub.status.idle": "2021-11-06T14:43:45.947036Z",
     "shell.execute_reply": "2021-11-06T14:43:45.946021Z",
     "shell.execute_reply.started": "2021-11-06T14:43:44.283313Z"
    }
   },
   "outputs": [
    {
     "data": {
      "text/html": [
       "<div>\n",
       "<style scoped>\n",
       "    .dataframe tbody tr th:only-of-type {\n",
       "        vertical-align: middle;\n",
       "    }\n",
       "\n",
       "    .dataframe tbody tr th {\n",
       "        vertical-align: top;\n",
       "    }\n",
       "\n",
       "    .dataframe thead th {\n",
       "        text-align: right;\n",
       "    }\n",
       "</style>\n",
       "<table border=\"1\" class=\"dataframe\">\n",
       "  <thead>\n",
       "    <tr style=\"text-align: right;\">\n",
       "      <th></th>\n",
       "      <th>title</th>\n",
       "      <th>text</th>\n",
       "      <th>subject</th>\n",
       "      <th>date</th>\n",
       "    </tr>\n",
       "  </thead>\n",
       "  <tbody>\n",
       "    <tr>\n",
       "      <th>0</th>\n",
       "      <td>Donald Trump Sends Out Embarrassing New Year’...</td>\n",
       "      <td>Donald Trump just couldn t wish all Americans ...</td>\n",
       "      <td>News</td>\n",
       "      <td>December 31, 2017</td>\n",
       "    </tr>\n",
       "    <tr>\n",
       "      <th>1</th>\n",
       "      <td>Drunk Bragging Trump Staffer Started Russian ...</td>\n",
       "      <td>House Intelligence Committee Chairman Devin Nu...</td>\n",
       "      <td>News</td>\n",
       "      <td>December 31, 2017</td>\n",
       "    </tr>\n",
       "    <tr>\n",
       "      <th>2</th>\n",
       "      <td>Sheriff David Clarke Becomes An Internet Joke...</td>\n",
       "      <td>On Friday, it was revealed that former Milwauk...</td>\n",
       "      <td>News</td>\n",
       "      <td>December 30, 2017</td>\n",
       "    </tr>\n",
       "    <tr>\n",
       "      <th>3</th>\n",
       "      <td>Trump Is So Obsessed He Even Has Obama’s Name...</td>\n",
       "      <td>On Christmas day, Donald Trump announced that ...</td>\n",
       "      <td>News</td>\n",
       "      <td>December 29, 2017</td>\n",
       "    </tr>\n",
       "    <tr>\n",
       "      <th>4</th>\n",
       "      <td>Pope Francis Just Called Out Donald Trump Dur...</td>\n",
       "      <td>Pope Francis used his annual Christmas Day mes...</td>\n",
       "      <td>News</td>\n",
       "      <td>December 25, 2017</td>\n",
       "    </tr>\n",
       "  </tbody>\n",
       "</table>\n",
       "</div>"
      ],
      "text/plain": [
       "                                               title  \\\n",
       "0   Donald Trump Sends Out Embarrassing New Year’...   \n",
       "1   Drunk Bragging Trump Staffer Started Russian ...   \n",
       "2   Sheriff David Clarke Becomes An Internet Joke...   \n",
       "3   Trump Is So Obsessed He Even Has Obama’s Name...   \n",
       "4   Pope Francis Just Called Out Donald Trump Dur...   \n",
       "\n",
       "                                                text subject  \\\n",
       "0  Donald Trump just couldn t wish all Americans ...    News   \n",
       "1  House Intelligence Committee Chairman Devin Nu...    News   \n",
       "2  On Friday, it was revealed that former Milwauk...    News   \n",
       "3  On Christmas day, Donald Trump announced that ...    News   \n",
       "4  Pope Francis used his annual Christmas Day mes...    News   \n",
       "\n",
       "                date  \n",
       "0  December 31, 2017  \n",
       "1  December 31, 2017  \n",
       "2  December 30, 2017  \n",
       "3  December 29, 2017  \n",
       "4  December 25, 2017  "
      ]
     },
     "execution_count": 4,
     "metadata": {},
     "output_type": "execute_result"
    }
   ],
   "source": [
    "# Fake News loaded\n",
    "fake = pd.read_csv('Fake.csv')\n",
    "fake.head()"
   ]
  },
  {
   "cell_type": "code",
   "execution_count": 5,
   "metadata": {
    "execution": {
     "iopub.execute_input": "2021-11-06T14:43:47.587780Z",
     "iopub.status.busy": "2021-11-06T14:43:47.587186Z",
     "iopub.status.idle": "2021-11-06T14:43:47.607758Z",
     "shell.execute_reply": "2021-11-06T14:43:47.605605Z",
     "shell.execute_reply.started": "2021-11-06T14:43:47.587742Z"
    }
   },
   "outputs": [
    {
     "data": {
      "text/html": [
       "<div>\n",
       "<style scoped>\n",
       "    .dataframe tbody tr th:only-of-type {\n",
       "        vertical-align: middle;\n",
       "    }\n",
       "\n",
       "    .dataframe tbody tr th {\n",
       "        vertical-align: top;\n",
       "    }\n",
       "\n",
       "    .dataframe thead th {\n",
       "        text-align: right;\n",
       "    }\n",
       "</style>\n",
       "<table border=\"1\" class=\"dataframe\">\n",
       "  <thead>\n",
       "    <tr style=\"text-align: right;\">\n",
       "      <th></th>\n",
       "      <th>title</th>\n",
       "      <th>text</th>\n",
       "      <th>subject</th>\n",
       "      <th>date</th>\n",
       "      <th>label</th>\n",
       "    </tr>\n",
       "  </thead>\n",
       "  <tbody>\n",
       "    <tr>\n",
       "      <th>0</th>\n",
       "      <td>Donald Trump Sends Out Embarrassing New Year’...</td>\n",
       "      <td>Donald Trump just couldn t wish all Americans ...</td>\n",
       "      <td>News</td>\n",
       "      <td>December 31, 2017</td>\n",
       "      <td>1</td>\n",
       "    </tr>\n",
       "    <tr>\n",
       "      <th>1</th>\n",
       "      <td>Drunk Bragging Trump Staffer Started Russian ...</td>\n",
       "      <td>House Intelligence Committee Chairman Devin Nu...</td>\n",
       "      <td>News</td>\n",
       "      <td>December 31, 2017</td>\n",
       "      <td>1</td>\n",
       "    </tr>\n",
       "    <tr>\n",
       "      <th>2</th>\n",
       "      <td>Sheriff David Clarke Becomes An Internet Joke...</td>\n",
       "      <td>On Friday, it was revealed that former Milwauk...</td>\n",
       "      <td>News</td>\n",
       "      <td>December 30, 2017</td>\n",
       "      <td>1</td>\n",
       "    </tr>\n",
       "    <tr>\n",
       "      <th>3</th>\n",
       "      <td>Trump Is So Obsessed He Even Has Obama’s Name...</td>\n",
       "      <td>On Christmas day, Donald Trump announced that ...</td>\n",
       "      <td>News</td>\n",
       "      <td>December 29, 2017</td>\n",
       "      <td>1</td>\n",
       "    </tr>\n",
       "    <tr>\n",
       "      <th>4</th>\n",
       "      <td>Pope Francis Just Called Out Donald Trump Dur...</td>\n",
       "      <td>Pope Francis used his annual Christmas Day mes...</td>\n",
       "      <td>News</td>\n",
       "      <td>December 25, 2017</td>\n",
       "      <td>1</td>\n",
       "    </tr>\n",
       "  </tbody>\n",
       "</table>\n",
       "</div>"
      ],
      "text/plain": [
       "                                               title  \\\n",
       "0   Donald Trump Sends Out Embarrassing New Year’...   \n",
       "1   Drunk Bragging Trump Staffer Started Russian ...   \n",
       "2   Sheriff David Clarke Becomes An Internet Joke...   \n",
       "3   Trump Is So Obsessed He Even Has Obama’s Name...   \n",
       "4   Pope Francis Just Called Out Donald Trump Dur...   \n",
       "\n",
       "                                                text subject  \\\n",
       "0  Donald Trump just couldn t wish all Americans ...    News   \n",
       "1  House Intelligence Committee Chairman Devin Nu...    News   \n",
       "2  On Friday, it was revealed that former Milwauk...    News   \n",
       "3  On Christmas day, Donald Trump announced that ...    News   \n",
       "4  Pope Francis used his annual Christmas Day mes...    News   \n",
       "\n",
       "                date  label  \n",
       "0  December 31, 2017      1  \n",
       "1  December 31, 2017      1  \n",
       "2  December 30, 2017      1  \n",
       "3  December 29, 2017      1  \n",
       "4  December 25, 2017      1  "
      ]
     },
     "execution_count": 5,
     "metadata": {},
     "output_type": "execute_result"
    }
   ],
   "source": [
    "# Fake news are labelled as 1\n",
    "fake['label'] = 1\n",
    "fake.head()"
   ]
  },
  {
   "cell_type": "code",
   "execution_count": 6,
   "metadata": {
    "execution": {
     "iopub.execute_input": "2021-11-06T14:51:47.057387Z",
     "iopub.status.busy": "2021-11-06T14:51:47.056743Z",
     "iopub.status.idle": "2021-11-06T14:51:47.063322Z",
     "shell.execute_reply": "2021-11-06T14:51:47.062573Z",
     "shell.execute_reply.started": "2021-11-06T14:51:47.057336Z"
    }
   },
   "outputs": [
    {
     "data": {
      "text/plain": [
       "'Donald Trump just couldn t wish all Americans a Happy New Year and leave it at that. Instead, he had to give a shout out to his enemies, haters and  the very dishonest fake news media.  The former reality show star had just one job to do and he couldn t do it. As our Country rapidly grows stronger and smarter, I want to wish all of my friends, supporters, enemies, haters, and even the very dishonest Fake News Media, a Happy and Healthy New Year,  President Angry Pants tweeted.  2018 will be a great year for America! As our Country rapidly grows stronger and smarter, I want to wish all of my friends, supporters, enemies, haters, and even the very dishonest Fake News Media, a Happy and Healthy New Year. 2018 will be a great year for America!  Donald J. Trump (@realDonaldTrump) December 31, 2017Trump s tweet went down about as welll as you d expect.What kind of president sends a New Year s greeting like this despicable, petty, infantile gibberish? Only Trump! His lack of decency won t even allow him to rise above the gutter long enough to wish the American citizens a happy new year!  Bishop Talbert Swan (@TalbertSwan) December 31, 2017no one likes you  Calvin (@calvinstowell) December 31, 2017Your impeachment would make 2018 a great year for America, but I ll also accept regaining control of Congress.  Miranda Yaver (@mirandayaver) December 31, 2017Do you hear yourself talk? When you have to include that many people that hate you you have to wonder? Why do the they all hate me?  Alan Sandoval (@AlanSandoval13) December 31, 2017Who uses the word Haters in a New Years wish??  Marlene (@marlene399) December 31, 2017You can t just say happy new year?  Koren pollitt (@Korencarpenter) December 31, 2017Here s Trump s New Year s Eve tweet from 2016.Happy New Year to all, including to my many enemies and those who have fought me and lost so badly they just don t know what to do. Love!  Donald J. Trump (@realDonaldTrump) December 31, 2016This is nothing new for Trump. He s been doing this for years.Trump has directed messages to his  enemies  and  haters  for New Year s, Easter, Thanksgiving, and the anniversary of 9/11. pic.twitter.com/4FPAe2KypA  Daniel Dale (@ddale8) December 31, 2017Trump s holiday tweets are clearly not presidential.How long did he work at Hallmark before becoming President?  Steven Goodine (@SGoodine) December 31, 2017He s always been like this . . . the only difference is that in the last few years, his filter has been breaking down.  Roy Schulze (@thbthttt) December 31, 2017Who, apart from a teenager uses the term haters?  Wendy (@WendyWhistles) December 31, 2017he s a fucking 5 year old  Who Knows (@rainyday80) December 31, 2017So, to all the people who voted for this a hole thinking he would change once he got into power, you were wrong! 70-year-old men don t change and now he s a year older.Photo by Andrew Burton/Getty Images.'"
      ]
     },
     "execution_count": 6,
     "metadata": {},
     "output_type": "execute_result"
    }
   ],
   "source": [
    "fake.text[0]"
   ]
  },
  {
   "cell_type": "code",
   "execution_count": 7,
   "metadata": {
    "execution": {
     "iopub.execute_input": "2021-11-06T14:49:17.579490Z",
     "iopub.status.busy": "2021-11-06T14:49:17.579122Z",
     "iopub.status.idle": "2021-11-06T14:49:19.098368Z",
     "shell.execute_reply": "2021-11-06T14:49:19.097335Z",
     "shell.execute_reply.started": "2021-11-06T14:49:17.579457Z"
    }
   },
   "outputs": [
    {
     "data": {
      "text/html": [
       "<div>\n",
       "<style scoped>\n",
       "    .dataframe tbody tr th:only-of-type {\n",
       "        vertical-align: middle;\n",
       "    }\n",
       "\n",
       "    .dataframe tbody tr th {\n",
       "        vertical-align: top;\n",
       "    }\n",
       "\n",
       "    .dataframe thead th {\n",
       "        text-align: right;\n",
       "    }\n",
       "</style>\n",
       "<table border=\"1\" class=\"dataframe\">\n",
       "  <thead>\n",
       "    <tr style=\"text-align: right;\">\n",
       "      <th></th>\n",
       "      <th>title</th>\n",
       "      <th>text</th>\n",
       "      <th>subject</th>\n",
       "      <th>date</th>\n",
       "    </tr>\n",
       "  </thead>\n",
       "  <tbody>\n",
       "    <tr>\n",
       "      <th>0</th>\n",
       "      <td>As U.S. budget fight looms, Republicans flip t...</td>\n",
       "      <td>WASHINGTON (Reuters) - The head of a conservat...</td>\n",
       "      <td>politicsNews</td>\n",
       "      <td>December 31, 2017</td>\n",
       "    </tr>\n",
       "    <tr>\n",
       "      <th>1</th>\n",
       "      <td>U.S. military to accept transgender recruits o...</td>\n",
       "      <td>WASHINGTON (Reuters) - Transgender people will...</td>\n",
       "      <td>politicsNews</td>\n",
       "      <td>December 29, 2017</td>\n",
       "    </tr>\n",
       "    <tr>\n",
       "      <th>2</th>\n",
       "      <td>Senior U.S. Republican senator: 'Let Mr. Muell...</td>\n",
       "      <td>WASHINGTON (Reuters) - The special counsel inv...</td>\n",
       "      <td>politicsNews</td>\n",
       "      <td>December 31, 2017</td>\n",
       "    </tr>\n",
       "    <tr>\n",
       "      <th>3</th>\n",
       "      <td>FBI Russia probe helped by Australian diplomat...</td>\n",
       "      <td>WASHINGTON (Reuters) - Trump campaign adviser ...</td>\n",
       "      <td>politicsNews</td>\n",
       "      <td>December 30, 2017</td>\n",
       "    </tr>\n",
       "    <tr>\n",
       "      <th>4</th>\n",
       "      <td>Trump wants Postal Service to charge 'much mor...</td>\n",
       "      <td>SEATTLE/WASHINGTON (Reuters) - President Donal...</td>\n",
       "      <td>politicsNews</td>\n",
       "      <td>December 29, 2017</td>\n",
       "    </tr>\n",
       "  </tbody>\n",
       "</table>\n",
       "</div>"
      ],
      "text/plain": [
       "                                               title  \\\n",
       "0  As U.S. budget fight looms, Republicans flip t...   \n",
       "1  U.S. military to accept transgender recruits o...   \n",
       "2  Senior U.S. Republican senator: 'Let Mr. Muell...   \n",
       "3  FBI Russia probe helped by Australian diplomat...   \n",
       "4  Trump wants Postal Service to charge 'much mor...   \n",
       "\n",
       "                                                text       subject  \\\n",
       "0  WASHINGTON (Reuters) - The head of a conservat...  politicsNews   \n",
       "1  WASHINGTON (Reuters) - Transgender people will...  politicsNews   \n",
       "2  WASHINGTON (Reuters) - The special counsel inv...  politicsNews   \n",
       "3  WASHINGTON (Reuters) - Trump campaign adviser ...  politicsNews   \n",
       "4  SEATTLE/WASHINGTON (Reuters) - President Donal...  politicsNews   \n",
       "\n",
       "                 date  \n",
       "0  December 31, 2017   \n",
       "1  December 29, 2017   \n",
       "2  December 31, 2017   \n",
       "3  December 30, 2017   \n",
       "4  December 29, 2017   "
      ]
     },
     "execution_count": 7,
     "metadata": {},
     "output_type": "execute_result"
    }
   ],
   "source": [
    "# True news loaded\n",
    "true = pd.read_csv('True.csv')\n",
    "true.head()"
   ]
  },
  {
   "cell_type": "code",
   "execution_count": 8,
   "metadata": {
    "execution": {
     "iopub.execute_input": "2021-11-06T14:49:19.100842Z",
     "iopub.status.busy": "2021-11-06T14:49:19.100199Z",
     "iopub.status.idle": "2021-11-06T14:49:19.116242Z",
     "shell.execute_reply": "2021-11-06T14:49:19.115165Z",
     "shell.execute_reply.started": "2021-11-06T14:49:19.100798Z"
    }
   },
   "outputs": [
    {
     "data": {
      "text/html": [
       "<div>\n",
       "<style scoped>\n",
       "    .dataframe tbody tr th:only-of-type {\n",
       "        vertical-align: middle;\n",
       "    }\n",
       "\n",
       "    .dataframe tbody tr th {\n",
       "        vertical-align: top;\n",
       "    }\n",
       "\n",
       "    .dataframe thead th {\n",
       "        text-align: right;\n",
       "    }\n",
       "</style>\n",
       "<table border=\"1\" class=\"dataframe\">\n",
       "  <thead>\n",
       "    <tr style=\"text-align: right;\">\n",
       "      <th></th>\n",
       "      <th>title</th>\n",
       "      <th>text</th>\n",
       "      <th>subject</th>\n",
       "      <th>date</th>\n",
       "      <th>label</th>\n",
       "    </tr>\n",
       "  </thead>\n",
       "  <tbody>\n",
       "    <tr>\n",
       "      <th>0</th>\n",
       "      <td>As U.S. budget fight looms, Republicans flip t...</td>\n",
       "      <td>WASHINGTON (Reuters) - The head of a conservat...</td>\n",
       "      <td>politicsNews</td>\n",
       "      <td>December 31, 2017</td>\n",
       "      <td>0</td>\n",
       "    </tr>\n",
       "    <tr>\n",
       "      <th>1</th>\n",
       "      <td>U.S. military to accept transgender recruits o...</td>\n",
       "      <td>WASHINGTON (Reuters) - Transgender people will...</td>\n",
       "      <td>politicsNews</td>\n",
       "      <td>December 29, 2017</td>\n",
       "      <td>0</td>\n",
       "    </tr>\n",
       "    <tr>\n",
       "      <th>2</th>\n",
       "      <td>Senior U.S. Republican senator: 'Let Mr. Muell...</td>\n",
       "      <td>WASHINGTON (Reuters) - The special counsel inv...</td>\n",
       "      <td>politicsNews</td>\n",
       "      <td>December 31, 2017</td>\n",
       "      <td>0</td>\n",
       "    </tr>\n",
       "    <tr>\n",
       "      <th>3</th>\n",
       "      <td>FBI Russia probe helped by Australian diplomat...</td>\n",
       "      <td>WASHINGTON (Reuters) - Trump campaign adviser ...</td>\n",
       "      <td>politicsNews</td>\n",
       "      <td>December 30, 2017</td>\n",
       "      <td>0</td>\n",
       "    </tr>\n",
       "    <tr>\n",
       "      <th>4</th>\n",
       "      <td>Trump wants Postal Service to charge 'much mor...</td>\n",
       "      <td>SEATTLE/WASHINGTON (Reuters) - President Donal...</td>\n",
       "      <td>politicsNews</td>\n",
       "      <td>December 29, 2017</td>\n",
       "      <td>0</td>\n",
       "    </tr>\n",
       "  </tbody>\n",
       "</table>\n",
       "</div>"
      ],
      "text/plain": [
       "                                               title  \\\n",
       "0  As U.S. budget fight looms, Republicans flip t...   \n",
       "1  U.S. military to accept transgender recruits o...   \n",
       "2  Senior U.S. Republican senator: 'Let Mr. Muell...   \n",
       "3  FBI Russia probe helped by Australian diplomat...   \n",
       "4  Trump wants Postal Service to charge 'much mor...   \n",
       "\n",
       "                                                text       subject  \\\n",
       "0  WASHINGTON (Reuters) - The head of a conservat...  politicsNews   \n",
       "1  WASHINGTON (Reuters) - Transgender people will...  politicsNews   \n",
       "2  WASHINGTON (Reuters) - The special counsel inv...  politicsNews   \n",
       "3  WASHINGTON (Reuters) - Trump campaign adviser ...  politicsNews   \n",
       "4  SEATTLE/WASHINGTON (Reuters) - President Donal...  politicsNews   \n",
       "\n",
       "                 date  label  \n",
       "0  December 31, 2017       0  \n",
       "1  December 29, 2017       0  \n",
       "2  December 31, 2017       0  \n",
       "3  December 30, 2017       0  \n",
       "4  December 29, 2017       0  "
      ]
     },
     "execution_count": 8,
     "metadata": {},
     "output_type": "execute_result"
    }
   ],
   "source": [
    "# True news labelled as 0\n",
    "true['label'] = 0\n",
    "true.head()"
   ]
  },
  {
   "cell_type": "code",
   "execution_count": 9,
   "metadata": {
    "execution": {
     "iopub.execute_input": "2021-11-06T14:49:19.191752Z",
     "iopub.status.busy": "2021-11-06T14:49:19.191402Z",
     "iopub.status.idle": "2021-11-06T14:49:19.198793Z",
     "shell.execute_reply": "2021-11-06T14:49:19.197467Z",
     "shell.execute_reply.started": "2021-11-06T14:49:19.191724Z"
    }
   },
   "outputs": [
    {
     "data": {
      "text/plain": [
       "(21417, 23481)"
      ]
     },
     "execution_count": 9,
     "metadata": {},
     "output_type": "execute_result"
    }
   ],
   "source": [
    "len(true), len(fake)"
   ]
  },
  {
   "cell_type": "code",
   "execution_count": 10,
   "metadata": {
    "execution": {
     "iopub.execute_input": "2021-11-06T14:54:29.599219Z",
     "iopub.status.busy": "2021-11-06T14:54:29.598840Z",
     "iopub.status.idle": "2021-11-06T14:54:29.633391Z",
     "shell.execute_reply": "2021-11-06T14:54:29.632469Z",
     "shell.execute_reply.started": "2021-11-06T14:54:29.599184Z"
    }
   },
   "outputs": [
    {
     "data": {
      "text/html": [
       "<div>\n",
       "<style scoped>\n",
       "    .dataframe tbody tr th:only-of-type {\n",
       "        vertical-align: middle;\n",
       "    }\n",
       "\n",
       "    .dataframe tbody tr th {\n",
       "        vertical-align: top;\n",
       "    }\n",
       "\n",
       "    .dataframe thead th {\n",
       "        text-align: right;\n",
       "    }\n",
       "</style>\n",
       "<table border=\"1\" class=\"dataframe\">\n",
       "  <thead>\n",
       "    <tr style=\"text-align: right;\">\n",
       "      <th></th>\n",
       "      <th>title</th>\n",
       "      <th>text</th>\n",
       "      <th>subject</th>\n",
       "      <th>date</th>\n",
       "      <th>label</th>\n",
       "    </tr>\n",
       "  </thead>\n",
       "  <tbody>\n",
       "    <tr>\n",
       "      <th>0</th>\n",
       "      <td>Daughter Chelsea casts Clinton as great mom, d...</td>\n",
       "      <td>PHILADELPHIA (Reuters) - Chelsea Clinton took ...</td>\n",
       "      <td>politicsNews</td>\n",
       "      <td>July 29, 2016</td>\n",
       "      <td>0</td>\n",
       "    </tr>\n",
       "    <tr>\n",
       "      <th>1</th>\n",
       "      <td>New Obama Rule Will STOP Republicans From Def...</td>\n",
       "      <td>Republicans hate it. They really really hate i...</td>\n",
       "      <td>News</td>\n",
       "      <td>September 9, 2016</td>\n",
       "      <td>1</td>\n",
       "    </tr>\n",
       "    <tr>\n",
       "      <th>2</th>\n",
       "      <td>Russia won't hand over suspect in Montenegro c...</td>\n",
       "      <td>MOSCOW (Reuters) - Russia will not hand over t...</td>\n",
       "      <td>worldnews</td>\n",
       "      <td>November 1, 2017</td>\n",
       "      <td>0</td>\n",
       "    </tr>\n",
       "    <tr>\n",
       "      <th>3</th>\n",
       "      <td>Republicans Just Moved To Repeal Obamacare. T...</td>\n",
       "      <td>President Barack Obama accomplished many great...</td>\n",
       "      <td>News</td>\n",
       "      <td>January 12, 2017</td>\n",
       "      <td>1</td>\n",
       "    </tr>\n",
       "    <tr>\n",
       "      <th>4</th>\n",
       "      <td>Venezuela's Maduro strips rival of U.N. post a...</td>\n",
       "      <td>CARACAS/HOUSTON (Reuters) - Venezuela has orde...</td>\n",
       "      <td>worldnews</td>\n",
       "      <td>November 29, 2017</td>\n",
       "      <td>0</td>\n",
       "    </tr>\n",
       "  </tbody>\n",
       "</table>\n",
       "</div>"
      ],
      "text/plain": [
       "                                               title  \\\n",
       "0  Daughter Chelsea casts Clinton as great mom, d...   \n",
       "1   New Obama Rule Will STOP Republicans From Def...   \n",
       "2  Russia won't hand over suspect in Montenegro c...   \n",
       "3   Republicans Just Moved To Repeal Obamacare. T...   \n",
       "4  Venezuela's Maduro strips rival of U.N. post a...   \n",
       "\n",
       "                                                text       subject  \\\n",
       "0  PHILADELPHIA (Reuters) - Chelsea Clinton took ...  politicsNews   \n",
       "1  Republicans hate it. They really really hate i...          News   \n",
       "2  MOSCOW (Reuters) - Russia will not hand over t...     worldnews   \n",
       "3  President Barack Obama accomplished many great...          News   \n",
       "4  CARACAS/HOUSTON (Reuters) - Venezuela has orde...     worldnews   \n",
       "\n",
       "                 date  label  \n",
       "0      July 29, 2016       0  \n",
       "1   September 9, 2016      1  \n",
       "2   November 1, 2017       0  \n",
       "3    January 12, 2017      1  \n",
       "4  November 29, 2017       0  "
      ]
     },
     "execution_count": 10,
     "metadata": {},
     "output_type": "execute_result"
    }
   ],
   "source": [
    "# Both fake and true news are combined and first 2000 data points are only selected\n",
    "df = pd.concat([fake.iloc[:,:],true.iloc[:,:]], axis=0)\n",
    "df = df.sample(len(df))\n",
    "df = df.reset_index(drop=True)\n",
    "df.head()"
   ]
  },
  {
   "cell_type": "code",
   "execution_count": 11,
   "metadata": {
    "execution": {
     "iopub.execute_input": "2021-11-06T14:54:39.681758Z",
     "iopub.status.busy": "2021-11-06T14:54:39.681412Z",
     "iopub.status.idle": "2021-11-06T14:54:39.697907Z",
     "shell.execute_reply": "2021-11-06T14:54:39.697016Z",
     "shell.execute_reply.started": "2021-11-06T14:54:39.681729Z"
    }
   },
   "outputs": [
    {
     "data": {
      "text/html": [
       "<div>\n",
       "<style scoped>\n",
       "    .dataframe tbody tr th:only-of-type {\n",
       "        vertical-align: middle;\n",
       "    }\n",
       "\n",
       "    .dataframe tbody tr th {\n",
       "        vertical-align: top;\n",
       "    }\n",
       "\n",
       "    .dataframe thead th {\n",
       "        text-align: right;\n",
       "    }\n",
       "</style>\n",
       "<table border=\"1\" class=\"dataframe\">\n",
       "  <thead>\n",
       "    <tr style=\"text-align: right;\">\n",
       "      <th></th>\n",
       "      <th>title</th>\n",
       "      <th>text</th>\n",
       "      <th>subject</th>\n",
       "      <th>date</th>\n",
       "      <th>label</th>\n",
       "    </tr>\n",
       "  </thead>\n",
       "  <tbody>\n",
       "    <tr>\n",
       "      <th>0</th>\n",
       "      <td>Daughter Chelsea casts Clinton as great mom, d...</td>\n",
       "      <td>PHILADELPHIA (Reuters) - Chelsea Clinton took ...</td>\n",
       "      <td>politicsNews</td>\n",
       "      <td>July 29, 2016</td>\n",
       "      <td>0</td>\n",
       "    </tr>\n",
       "    <tr>\n",
       "      <th>1</th>\n",
       "      <td>New Obama Rule Will STOP Republicans From Def...</td>\n",
       "      <td>Republicans hate it. They really really hate i...</td>\n",
       "      <td>News</td>\n",
       "      <td>September 9, 2016</td>\n",
       "      <td>1</td>\n",
       "    </tr>\n",
       "    <tr>\n",
       "      <th>2</th>\n",
       "      <td>Russia won't hand over suspect in Montenegro c...</td>\n",
       "      <td>MOSCOW (Reuters) - Russia will not hand over t...</td>\n",
       "      <td>worldnews</td>\n",
       "      <td>November 1, 2017</td>\n",
       "      <td>0</td>\n",
       "    </tr>\n",
       "    <tr>\n",
       "      <th>3</th>\n",
       "      <td>Republicans Just Moved To Repeal Obamacare. T...</td>\n",
       "      <td>President Barack Obama accomplished many great...</td>\n",
       "      <td>News</td>\n",
       "      <td>January 12, 2017</td>\n",
       "      <td>1</td>\n",
       "    </tr>\n",
       "    <tr>\n",
       "      <th>4</th>\n",
       "      <td>Venezuela's Maduro strips rival of U.N. post a...</td>\n",
       "      <td>CARACAS/HOUSTON (Reuters) - Venezuela has orde...</td>\n",
       "      <td>worldnews</td>\n",
       "      <td>November 29, 2017</td>\n",
       "      <td>0</td>\n",
       "    </tr>\n",
       "    <tr>\n",
       "      <th>...</th>\n",
       "      <td>...</td>\n",
       "      <td>...</td>\n",
       "      <td>...</td>\n",
       "      <td>...</td>\n",
       "      <td>...</td>\n",
       "    </tr>\n",
       "    <tr>\n",
       "      <th>44893</th>\n",
       "      <td>China says hopes Iran nuclear deal stays intac...</td>\n",
       "      <td>BEIJING (Reuters) - China said on Monday it ho...</td>\n",
       "      <td>worldnews</td>\n",
       "      <td>October 9, 2017</td>\n",
       "      <td>0</td>\n",
       "    </tr>\n",
       "    <tr>\n",
       "      <th>44894</th>\n",
       "      <td>Trump Loses His Sh*t Over SNL Skit And Alec B...</td>\n",
       "      <td>Once again, Donald Trump threw a temper tantru...</td>\n",
       "      <td>News</td>\n",
       "      <td>November 20, 2016</td>\n",
       "      <td>1</td>\n",
       "    </tr>\n",
       "    <tr>\n",
       "      <th>44895</th>\n",
       "      <td>No Longer Just Suspicion: Experts Trace DNC H...</td>\n",
       "      <td>Rumors that the DNC hack was tied to Russia ha...</td>\n",
       "      <td>News</td>\n",
       "      <td>July 26, 2016</td>\n",
       "      <td>1</td>\n",
       "    </tr>\n",
       "    <tr>\n",
       "      <th>44896</th>\n",
       "      <td>“MIC DROP!” A Lady Approached Sheriff Clarke, ...</td>\n",
       "      <td>Here is his epic response to her criticism: La...</td>\n",
       "      <td>politics</td>\n",
       "      <td>Feb 17, 2017</td>\n",
       "      <td>1</td>\n",
       "    </tr>\n",
       "    <tr>\n",
       "      <th>44897</th>\n",
       "      <td>Canada proposes health warnings, child-proof p...</td>\n",
       "      <td>OTTAWA (Reuters) - The Canadian government pro...</td>\n",
       "      <td>worldnews</td>\n",
       "      <td>November 21, 2017</td>\n",
       "      <td>0</td>\n",
       "    </tr>\n",
       "  </tbody>\n",
       "</table>\n",
       "<p>44898 rows × 5 columns</p>\n",
       "</div>"
      ],
      "text/plain": [
       "                                                   title  \\\n",
       "0      Daughter Chelsea casts Clinton as great mom, d...   \n",
       "1       New Obama Rule Will STOP Republicans From Def...   \n",
       "2      Russia won't hand over suspect in Montenegro c...   \n",
       "3       Republicans Just Moved To Repeal Obamacare. T...   \n",
       "4      Venezuela's Maduro strips rival of U.N. post a...   \n",
       "...                                                  ...   \n",
       "44893  China says hopes Iran nuclear deal stays intac...   \n",
       "44894   Trump Loses His Sh*t Over SNL Skit And Alec B...   \n",
       "44895   No Longer Just Suspicion: Experts Trace DNC H...   \n",
       "44896  “MIC DROP!” A Lady Approached Sheriff Clarke, ...   \n",
       "44897  Canada proposes health warnings, child-proof p...   \n",
       "\n",
       "                                                    text       subject  \\\n",
       "0      PHILADELPHIA (Reuters) - Chelsea Clinton took ...  politicsNews   \n",
       "1      Republicans hate it. They really really hate i...          News   \n",
       "2      MOSCOW (Reuters) - Russia will not hand over t...     worldnews   \n",
       "3      President Barack Obama accomplished many great...          News   \n",
       "4      CARACAS/HOUSTON (Reuters) - Venezuela has orde...     worldnews   \n",
       "...                                                  ...           ...   \n",
       "44893  BEIJING (Reuters) - China said on Monday it ho...     worldnews   \n",
       "44894  Once again, Donald Trump threw a temper tantru...          News   \n",
       "44895  Rumors that the DNC hack was tied to Russia ha...          News   \n",
       "44896  Here is his epic response to her criticism: La...      politics   \n",
       "44897  OTTAWA (Reuters) - The Canadian government pro...     worldnews   \n",
       "\n",
       "                     date  label  \n",
       "0          July 29, 2016       0  \n",
       "1       September 9, 2016      1  \n",
       "2       November 1, 2017       0  \n",
       "3        January 12, 2017      1  \n",
       "4      November 29, 2017       0  \n",
       "...                   ...    ...  \n",
       "44893    October 9, 2017       0  \n",
       "44894   November 20, 2016      1  \n",
       "44895       July 26, 2016      1  \n",
       "44896        Feb 17, 2017      1  \n",
       "44897  November 21, 2017       0  \n",
       "\n",
       "[44898 rows x 5 columns]"
      ]
     },
     "execution_count": 11,
     "metadata": {},
     "output_type": "execute_result"
    }
   ],
   "source": [
    "df"
   ]
  },
  {
   "cell_type": "code",
   "execution_count": 12,
   "metadata": {
    "execution": {
     "iopub.execute_input": "2021-11-06T14:55:23.018499Z",
     "iopub.status.busy": "2021-11-06T14:55:23.018015Z",
     "iopub.status.idle": "2021-11-06T14:55:23.338649Z",
     "shell.execute_reply": "2021-11-06T14:55:23.337443Z",
     "shell.execute_reply.started": "2021-11-06T14:55:23.018454Z"
    }
   },
   "outputs": [
    {
     "data": {
      "text/html": [
       "<div>\n",
       "<style scoped>\n",
       "    .dataframe tbody tr th:only-of-type {\n",
       "        vertical-align: middle;\n",
       "    }\n",
       "\n",
       "    .dataframe tbody tr th {\n",
       "        vertical-align: top;\n",
       "    }\n",
       "\n",
       "    .dataframe thead th {\n",
       "        text-align: right;\n",
       "    }\n",
       "</style>\n",
       "<table border=\"1\" class=\"dataframe\">\n",
       "  <thead>\n",
       "    <tr style=\"text-align: right;\">\n",
       "      <th></th>\n",
       "      <th>text</th>\n",
       "      <th>label</th>\n",
       "    </tr>\n",
       "  </thead>\n",
       "  <tbody>\n",
       "    <tr>\n",
       "      <th>0</th>\n",
       "      <td>Daughter Chelsea casts Clinton as great mom, d...</td>\n",
       "      <td>0</td>\n",
       "    </tr>\n",
       "    <tr>\n",
       "      <th>1</th>\n",
       "      <td>New Obama Rule Will STOP Republicans From Def...</td>\n",
       "      <td>1</td>\n",
       "    </tr>\n",
       "    <tr>\n",
       "      <th>2</th>\n",
       "      <td>Russia won't hand over suspect in Montenegro c...</td>\n",
       "      <td>0</td>\n",
       "    </tr>\n",
       "    <tr>\n",
       "      <th>3</th>\n",
       "      <td>Republicans Just Moved To Repeal Obamacare. T...</td>\n",
       "      <td>1</td>\n",
       "    </tr>\n",
       "    <tr>\n",
       "      <th>4</th>\n",
       "      <td>Venezuela's Maduro strips rival of U.N. post a...</td>\n",
       "      <td>0</td>\n",
       "    </tr>\n",
       "  </tbody>\n",
       "</table>\n",
       "</div>"
      ],
      "text/plain": [
       "                                                text  label\n",
       "0  Daughter Chelsea casts Clinton as great mom, d...      0\n",
       "1   New Obama Rule Will STOP Republicans From Def...      1\n",
       "2  Russia won't hand over suspect in Montenegro c...      0\n",
       "3   Republicans Just Moved To Repeal Obamacare. T...      1\n",
       "4  Venezuela's Maduro strips rival of U.N. post a...      0"
      ]
     },
     "execution_count": 12,
     "metadata": {},
     "output_type": "execute_result"
    }
   ],
   "source": [
    "# Text & Title columns are combined and other columns except label are dropped\n",
    "df.text = df.title + df.text\n",
    "df = df[['text','label']]\n",
    "df.head()"
   ]
  },
  {
   "cell_type": "code",
   "execution_count": 14,
   "metadata": {
    "execution": {
     "iopub.execute_input": "2021-11-06T15:03:54.493836Z",
     "iopub.status.busy": "2021-11-06T15:03:54.493363Z",
     "iopub.status.idle": "2021-11-06T15:03:54.497253Z",
     "shell.execute_reply": "2021-11-06T15:03:54.496567Z",
     "shell.execute_reply.started": "2021-11-06T15:03:54.493805Z"
    }
   },
   "outputs": [],
   "source": [
    "X = df.text\n",
    "y = df.label"
   ]
  },
  {
   "cell_type": "markdown",
   "metadata": {
    "execution": {
     "iopub.execute_input": "2021-08-25T17:10:27.521493Z",
     "iopub.status.busy": "2021-08-25T17:10:27.521146Z",
     "iopub.status.idle": "2021-08-25T17:10:27.53535Z",
     "shell.execute_reply": "2021-08-25T17:10:27.534245Z",
     "shell.execute_reply.started": "2021-08-25T17:10:27.521465Z"
    }
   },
   "source": [
    "# Processing \n",
    "    classification "
   ]
  },
  {
   "cell_type": "code",
   "execution_count": 15,
   "metadata": {
    "execution": {
     "iopub.execute_input": "2021-11-06T15:03:59.778337Z",
     "iopub.status.busy": "2021-11-06T15:03:59.777841Z",
     "iopub.status.idle": "2021-11-06T15:55:39.735643Z",
     "shell.execute_reply": "2021-11-06T15:55:39.734726Z",
     "shell.execute_reply.started": "2021-11-06T15:03:59.778294Z"
    }
   },
   "outputs": [],
   "source": [
    "# Data processing is done\n",
    "corpus = []\n",
    "ps = PorterStemmer()\n",
    "\n",
    "for i in X:\n",
    "    # Except alphabets, everything is removed\n",
    "    new = re.sub('[^a-zA-Z]', ' ',i)\n",
    "    # Converted to lower case\n",
    "    new = new.lower()\n",
    "    # Word tolenizing done\n",
    "    new = nltk.word_tokenize(new)\n",
    "    # English stop words are removed\n",
    "    new = [ps.stem(i) for i in new if i not in stopwords.words('english')]\n",
    "    new = ' '.join(new)\n",
    "    corpus.append(new)"
   ]
  },
  {
   "cell_type": "code",
   "execution_count": 16,
   "metadata": {
    "execution": {
     "iopub.execute_input": "2021-11-06T15:57:32.837151Z",
     "iopub.status.busy": "2021-11-06T15:57:32.836486Z",
     "iopub.status.idle": "2021-11-06T15:57:32.899116Z",
     "shell.execute_reply": "2021-11-06T15:57:32.898043Z",
     "shell.execute_reply.started": "2021-11-06T15:57:32.837107Z"
    }
   },
   "outputs": [],
   "source": [
    "# Splitting into train and test data\n",
    "X_train,X_test, y_train,y_test = train_test_split(corpus,y, train_size=0.7, random_state=100, stratify=y)"
   ]
  },
  {
   "cell_type": "code",
   "execution_count": 17,
   "metadata": {
    "execution": {
     "iopub.execute_input": "2021-11-06T15:57:37.369087Z",
     "iopub.status.busy": "2021-11-06T15:57:37.368713Z",
     "iopub.status.idle": "2021-11-06T15:57:37.374626Z",
     "shell.execute_reply": "2021-11-06T15:57:37.373882Z",
     "shell.execute_reply.started": "2021-11-06T15:57:37.369040Z"
    }
   },
   "outputs": [],
   "source": [
    "# 2 models are considered included in a pipeline to produce bag of words\n",
    "mnb = Pipeline([('cnt_vec', CountVectorizer()),\n",
    "               ('mnb', MultinomialNB())])\n",
    "\n",
    "bnb = Pipeline([('cnt_vec', CountVectorizer()),\n",
    "               ('bnb', BernoulliNB())])\n",
    "\n",
    "folds = StratifiedKFold(n_splits=5, shuffle=True, random_state=52)"
   ]
  },
  {
   "cell_type": "code",
   "execution_count": 18,
   "metadata": {
    "execution": {
     "iopub.execute_input": "2021-11-06T15:57:43.407194Z",
     "iopub.status.busy": "2021-11-06T15:57:43.406565Z",
     "iopub.status.idle": "2021-11-06T15:58:29.305397Z",
     "shell.execute_reply": "2021-11-06T15:58:29.304199Z",
     "shell.execute_reply.started": "2021-11-06T15:57:43.407155Z"
    }
   },
   "outputs": [
    {
     "data": {
      "text/plain": [
       "0.9508082944230096"
      ]
     },
     "execution_count": 18,
     "metadata": {},
     "output_type": "execute_result"
    }
   ],
   "source": [
    "# Cross validation for first model\n",
    "cv_mnb = cross_val_score(mnb,X_train,y_train,cv=folds)\n",
    "cv_mnb.mean()"
   ]
  },
  {
   "cell_type": "code",
   "execution_count": 19,
   "metadata": {
    "execution": {
     "iopub.execute_input": "2021-11-06T15:59:23.270155Z",
     "iopub.status.busy": "2021-11-06T15:59:23.269759Z",
     "iopub.status.idle": "2021-11-06T16:00:08.503359Z",
     "shell.execute_reply": "2021-11-06T16:00:08.502346Z",
     "shell.execute_reply.started": "2021-11-06T15:59:23.270123Z"
    }
   },
   "outputs": [
    {
     "data": {
      "text/plain": [
       "0.9659539414151892"
      ]
     },
     "execution_count": 19,
     "metadata": {},
     "output_type": "execute_result"
    }
   ],
   "source": [
    "# Cross validation for second model\n",
    "cv_bnb = cross_val_score(bnb,X_train,y_train,cv=folds)\n",
    "cv_bnb.mean()"
   ]
  },
  {
   "cell_type": "code",
   "execution_count": 20,
   "metadata": {
    "execution": {
     "iopub.execute_input": "2021-11-06T16:02:27.032314Z",
     "iopub.status.busy": "2021-11-06T16:02:27.031921Z",
     "iopub.status.idle": "2021-11-06T16:09:50.773821Z",
     "shell.execute_reply": "2021-11-06T16:09:50.773000Z",
     "shell.execute_reply.started": "2021-11-06T16:02:27.032279Z"
    }
   },
   "outputs": [
    {
     "name": "stdout",
     "output_type": "stream",
     "text": [
      "Fitting 5 folds for each of 8 candidates, totalling 40 fits\n"
     ]
    },
    {
     "name": "stderr",
     "output_type": "stream",
     "text": [
      "C:\\Users\\x1doo\\anaconda3\\lib\\site-packages\\sklearn\\model_selection\\_search.py:918: UserWarning: One or more of the test scores are non-finite: [0.95080829 0.9696768         nan 0.97581779 0.96595394 0.97858604\n",
      "        nan 0.97744054]\n",
      "  warnings.warn(\n",
      "C:\\Users\\x1doo\\anaconda3\\lib\\site-packages\\sklearn\\model_selection\\_search.py:918: UserWarning: One or more of the train scores are non-finite: [0.95982086 0.99472604        nan 0.99856816 0.97284269 0.99760564\n",
      "        nan 0.99893407]\n",
      "  warnings.warn(\n"
     ]
    },
    {
     "data": {
      "text/plain": [
       "GridSearchCV(cv=StratifiedKFold(n_splits=5, random_state=52, shuffle=True),\n",
       "             estimator=Pipeline(steps=[('classifier',\n",
       "                                        Pipeline(steps=[('cnt_vec',\n",
       "                                                         CountVectorizer()),\n",
       "                                                        ('mnb',\n",
       "                                                         MultinomialNB())]))]),\n",
       "             n_jobs=-1,\n",
       "             param_grid=[{'classifier': [Pipeline(steps=[('cnt_vec',\n",
       "                                                          CountVectorizer()),\n",
       "                                                         ('mnb',\n",
       "                                                          MultinomialNB())])],\n",
       "                          'classifier__cnt_vec__ngram_range': [(1, 1), (1, 2),\n",
       "                                                               (2, 1),\n",
       "                                                               (2, 2)]},\n",
       "                         {'classifier': [Pipeline(steps=[('cnt_vec',\n",
       "                                                          CountVectorizer(ngram_range=(1,\n",
       "                                                                                       2))),\n",
       "                                                         ('bnb',\n",
       "                                                          BernoulliNB())])],\n",
       "                          'classifier__cnt_vec__ngram_range': [(1, 1), (1, 2),\n",
       "                                                               (2, 1),\n",
       "                                                               (2, 2)]}],\n",
       "             return_train_score=True, scoring='accuracy', verbose=3)"
      ]
     },
     "execution_count": 20,
     "metadata": {},
     "output_type": "execute_result"
    }
   ],
   "source": [
    "# Hyperparameter tuning to find the best model and parameters\n",
    "classifier = Pipeline([('classifier', mnb)])\n",
    "\n",
    "hyp = [{'classifier':[mnb],\n",
    "       'classifier__cnt_vec__ngram_range':[(1,1),(1,2),(2,1),(2,2)]},\n",
    "      {'classifier':[bnb],\n",
    "       'classifier__cnt_vec__ngram_range':[(1,1),(1,2),(2,1),(2,2)]}]\n",
    "\n",
    "grid = GridSearchCV(estimator=classifier, param_grid=hyp, cv=folds, n_jobs=-1, scoring='accuracy',\n",
    "                   verbose=3, return_train_score=True)\n",
    "grid.fit(X_train,y_train)"
   ]
  },
  {
   "cell_type": "code",
   "execution_count": 21,
   "metadata": {
    "execution": {
     "iopub.execute_input": "2021-11-06T16:10:17.093299Z",
     "iopub.status.busy": "2021-11-06T16:10:17.092693Z",
     "iopub.status.idle": "2021-11-06T16:10:17.117092Z",
     "shell.execute_reply": "2021-11-06T16:10:17.116347Z",
     "shell.execute_reply.started": "2021-11-06T16:10:17.093243Z"
    }
   },
   "outputs": [
    {
     "data": {
      "text/plain": [
       "(Pipeline(steps=[('classifier',\n",
       "                  Pipeline(steps=[('cnt_vec',\n",
       "                                   CountVectorizer(ngram_range=(1, 2))),\n",
       "                                  ('bnb', BernoulliNB())]))]),\n",
       " 0.9785860359207653)"
      ]
     },
     "execution_count": 21,
     "metadata": {},
     "output_type": "execute_result"
    }
   ],
   "source": [
    "grid.best_estimator_, grid.best_score_"
   ]
  },
  {
   "cell_type": "code",
   "execution_count": 22,
   "metadata": {
    "execution": {
     "iopub.execute_input": "2021-11-06T16:20:14.173014Z",
     "iopub.status.busy": "2021-11-06T16:20:14.172410Z",
     "iopub.status.idle": "2021-11-06T16:20:14.177684Z",
     "shell.execute_reply": "2021-11-06T16:20:14.177008Z",
     "shell.execute_reply.started": "2021-11-06T16:20:14.172956Z"
    }
   },
   "outputs": [],
   "source": [
    "model = grid.best_estimator_"
   ]
  },
  {
   "cell_type": "code",
   "execution_count": 23,
   "metadata": {
    "execution": {
     "iopub.execute_input": "2021-11-06T16:20:52.625643Z",
     "iopub.status.busy": "2021-11-06T16:20:52.625268Z",
     "iopub.status.idle": "2021-11-06T16:21:27.559352Z",
     "shell.execute_reply": "2021-11-06T16:21:27.557836Z",
     "shell.execute_reply.started": "2021-11-06T16:20:52.625612Z"
    }
   },
   "outputs": [
    {
     "name": "stdout",
     "output_type": "stream",
     "text": [
      "Accuracy of test data = 98.04008908685968 %\n",
      "Recall of test data = 97.98438608942513 %\n",
      "Precision  of test data = 98.26334519572953 %\n",
      "F1  of test data = 98.12366737739872 %\n"
     ]
    }
   ],
   "source": [
    "# Final training of model\n",
    "model.fit(X_train,y_train)\n",
    "y_test_pred = model.predict(X_test)\n",
    "print('Accuracy of test data =',100*accuracy_score(y_test, y_test_pred),'%')\n",
    "print('Recall of test data =',100*recall_score(y_test, y_test_pred),'%')\n",
    "print('Precision  of test data =',100*precision_score(y_test, y_test_pred),'%')\n",
    "print('F1  of test data =',100*f1_score(y_test, y_test_pred),'%')\n"
   ]
  },
  {
   "cell_type": "code",
   "execution_count": 24,
   "metadata": {
    "execution": {
     "iopub.execute_input": "2021-11-06T16:22:14.187701Z",
     "iopub.status.busy": "2021-11-06T16:22:14.187332Z",
     "iopub.status.idle": "2021-11-06T16:22:14.478306Z",
     "shell.execute_reply": "2021-11-06T16:22:14.477297Z",
     "shell.execute_reply.started": "2021-11-06T16:22:14.187668Z"
    }
   },
   "outputs": [
    {
     "data": {
      "image/png": "[encoded data removed]",
      "text/plain": [
       "<Figure size 432x288 with 2 Axes>"
      ]
     },
     "metadata": {
      "needs_background": "light"
     },
     "output_type": "display_data"
    }
   ],
   "source": [
    "conf = confusion_matrix(y_test, y_test_pred)\n",
    "sns.heatmap(conf, annot=True)\n",
    "plt.show()"
   ]
  },
  {
   "cell_type": "code",
   "execution_count": 25,
   "metadata": {
    "execution": {
     "iopub.execute_input": "2021-11-06T16:23:03.382546Z",
     "iopub.status.busy": "2021-11-06T16:23:03.382168Z",
     "iopub.status.idle": "2021-11-06T16:23:10.288966Z",
     "shell.execute_reply": "2021-11-06T16:23:10.287944Z",
     "shell.execute_reply.started": "2021-11-06T16:23:03.382518Z"
    }
   },
   "outputs": [
    {
     "data": {
      "image/png": "[encoded data removed]",
      "text/plain": [
       "<Figure size 432x288 with 1 Axes>"
      ]
     },
     "metadata": {
      "needs_background": "light"
     },
     "output_type": "display_data"
    }
   ],
   "source": [
    "y_test_proba = [i[1] for i in model.predict_proba(X_test)]\n",
    "\n",
    "auc = roc_auc_score(y_test,y_test_proba)\n",
    "fpr,tpr,thresh = roc_curve(y_test,y_test_proba)\n",
    "plt.plot(fpr,tpr)\n",
    "plt.xlabel('FPR')\n",
    "plt.ylabel('TPR')\n",
    "plt.legend(('AUC Score = {}%'.format(round(auc,2)),),loc='lower right')\n",
    "plt.show()"
   ]
  },
  {
   "cell_type": "code",
   "execution_count": 29,
   "metadata": {
    "execution": {
     "iopub.execute_input": "2021-11-06T16:24:12.090170Z",
     "iopub.status.busy": "2021-11-06T16:24:12.089759Z",
     "iopub.status.idle": "2021-11-06T16:24:18.302971Z",
     "shell.execute_reply": "2021-11-06T16:24:18.302115Z",
     "shell.execute_reply.started": "2021-11-06T16:24:12.090133Z"
    }
   },
   "outputs": [
    {
     "data": {
      "image/png": "[encoded data removed]",
      "text/plain": [
       "<Figure size 1440x576 with 1 Axes>"
      ]
     },
     "metadata": {
      "needs_background": "light"
     },
     "output_type": "display_data"
    },
    {
     "data": {
      "image/png": "[encoded data removed]",
      "text/plain": [
       "<Figure size 1440x576 with 1 Axes>"
      ]
     },
     "metadata": {
      "needs_background": "light"
     },
     "output_type": "display_data"
    }
   ],
   "source": [
    "imp = pd.DataFrame({'features':model['classifier']['cnt_vec'].get_feature_names(), 'coef':model['classifier']['bnb'].coef_[0]})\n",
    "\n",
    "top20 = imp.sort_values('coef',ascending=False).iloc[:20,:]\n",
    "down20 = imp.sort_values('coef').iloc[:20,:]\n",
    "\n",
    "plt.figure(figsize=(20,8))\n",
    "plt.bar(top20.features,top20.coef)\n",
    "plt.title('Top 20 words in true news', fontsize=24)\n",
    "plt.show()\n",
    "\n",
    "plt.figure(figsize=(20,8))\n",
    "plt.bar(down20.features,down20.coef)\n",
    "plt.title('Top 20 words in false news', fontsize=24)\n",
    "plt.xticks(rotation=90)\n",
    "plt.show()"
   ]
  },
  {
   "cell_type": "markdown",
   "metadata": {
    "execution": {
     "iopub.execute_input": "2021-11-06T16:26:53.233964Z",
     "iopub.status.busy": "2021-11-06T16:26:53.233620Z",
     "iopub.status.idle": "2021-11-06T16:26:53.249413Z",
     "shell.execute_reply": "2021-11-06T16:26:53.248674Z",
     "shell.execute_reply.started": "2021-11-06T16:26:53.233936Z"
    }
   },
   "source": [
    "# Topic modeling"
   ]
  },
  {
   "cell_type": "code",
   "execution_count": null,
   "metadata": {},
   "outputs": [],
   "source": []
  }
 ],
 "metadata": {
  "kernelspec": {
   "display_name": "Python 3",
   "language": "python",
   "name": "python3"
  },
  "language_info": {
   "codemirror_mode": {
    "name": "ipython",
    "version": 3
   },
   "file_extension": ".py",
   "mimetype": "text/x-python",
   "name": "python",
   "nbconvert_exporter": "python",
   "pygments_lexer": "ipython3",
   "version": "3.8.8"
  }
 },
 "nbformat": 4,
 "nbformat_minor": 4
}
